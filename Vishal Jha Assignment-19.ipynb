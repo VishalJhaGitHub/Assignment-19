{
 "cells": [
  {
   "cell_type": "code",
   "execution_count": 1,
   "id": "999e7e1f-bc03-408e-8f9c-71abd75ec62b",
   "metadata": {},
   "outputs": [],
   "source": [
    "#1. Explain GET and POST methods.\n",
    "\n",
    "#Ans\n",
    "\n",
    "#GET Method:\n",
    "#The GET method is used to request data from a specified resource. When a client sends a GET request to a server, it is asking for a representation of the specified resource. The server responds with the requested resource, usually in the form of a web page, JSON or XML data, or an image or video file. GET requests can be bookmarked and cached by browsers, which makes them useful for retrieving resources that do not change frequently. However, GET requests have limitations on the amount of data that can be sent, as all the data is sent in the URL, which is limited in size.\n",
    "\n",
    "#POST Method:\n",
    "#The POST method is used to submit an entity to a specified resource, often causing a change in state or side effect on the server. When a client sends a POST request to a server, it typically includes data in the request body, which can be used by the server to update or create a resource. Unlike GET requests, POST requests do not have a limit on the amount of data that can be sent. This makes them useful for sending large amounts of data, such as form submissions or file uploads. POST requests are not cached by browsers and cannot be bookmarked, as they may have side effects on the server."
   ]
  },
  {
   "cell_type": "code",
   "execution_count": 2,
   "id": "d803777e-6ec1-4bc4-9acc-09ac4783ecf1",
   "metadata": {},
   "outputs": [],
   "source": [
    "#2. Why is request used in Flask?\n",
    "\n",
    "#Ans\n",
    "\n",
    "#In Flask, a request is used to represent an incoming HTTP request made by a client to the Flask application. It contains all the data and information about the request, including the headers, the request method, the form data, and the URL parameters.\n",
    "\n",
    "#The request object is an important component of a Flask application because it allows the application to extract information from the client's request and perform appropriate actions based on that information. For example, the request object can be used to retrieve data from a form submitted by the client or to extract query parameters from the URL."
   ]
  },
  {
   "cell_type": "code",
   "execution_count": 3,
   "id": "5069ba91-aef1-4f00-9b15-b21b7e935eae",
   "metadata": {},
   "outputs": [],
   "source": [
    "#3. Why is redirect() used in Flask?\n",
    "\n",
    "#Ans\n",
    "\n",
    "#In Flask, redirect() is used to redirect the user to a different endpoint (URL) within the same application or to an external URL.\n",
    "\n",
    "#The most common use case of redirect() is to redirect users to a different page after a form submission, after authentication or after some other kind of action. For example, if a user successfully logs in, you might want to redirect them to their profile page. Similarly, if a user submits a form with invalid data, you might want to redirect them back to the form page to correct their input."
   ]
  },
  {
   "cell_type": "code",
   "execution_count": 4,
   "id": "77f9c17b-4d13-4da4-a60d-4cbfffc64326",
   "metadata": {},
   "outputs": [],
   "source": [
    "#4. What are templates in Flask? Why is the render_template() function used?\n",
    "\n",
    "#Ans\n",
    "\n",
    "#Templates in Flask are files that contain a combination of static HTML and dynamic content that can be rendered by the Flask application. These dynamic contents are usually variables or expressions that are populated by data passed from the Flask application. Flask uses a templating engine called Jinja2 to render templates.\n",
    "\n",
    "#The render_template() function in Flask is used to render a template by taking the name of the template as an argument, along with any data that needs to be passed to the template for rendering. It returns the rendered template as a string that can be sent as a response to the client.\n",
    "\n",
    "#The render_template() function works by using Jinja2 to process the template file and substitute any variables or expressions in the template with their corresponding values. This allows the Flask application to generate dynamic HTML pages that can be customized for each request.\n",
    "\n",
    "#For example, consider a Flask application that needs to render a page that displays a list of blog posts. The render_template() function can be used to render a template that contains the static HTML structure of the page along with dynamic content that displays the blog post titles and authors. The function can pass a list of blog post objects to the template as a parameter, which can then be used to generate the dynamic content in the template."
   ]
  },
  {
   "cell_type": "code",
   "execution_count": 5,
   "id": "abe47d8d-a202-4479-a59e-e37b93a6a26d",
   "metadata": {},
   "outputs": [
    {
     "name": "stdout",
     "output_type": "stream",
     "text": [
      "Collecting flask\n",
      "  Downloading Flask-2.2.3-py3-none-any.whl (101 kB)\n",
      "\u001b[2K     \u001b[90m━━━━━━━━━━━━━━━━━━━━━━━━━━━━━━━━━━━━━━━\u001b[0m \u001b[32m101.8/101.8 kB\u001b[0m \u001b[31m1.1 MB/s\u001b[0m eta \u001b[36m0:00:00\u001b[0ma \u001b[36m0:00:01\u001b[0m\n",
      "\u001b[?25hCollecting flask-restful\n",
      "  Downloading Flask_RESTful-0.3.9-py2.py3-none-any.whl (25 kB)\n",
      "Collecting itsdangerous>=2.0\n",
      "  Downloading itsdangerous-2.1.2-py3-none-any.whl (15 kB)\n",
      "Requirement already satisfied: Jinja2>=3.0 in /opt/conda/lib/python3.10/site-packages (from flask) (3.1.2)\n",
      "Collecting Werkzeug>=2.2.2\n",
      "  Downloading Werkzeug-2.2.3-py3-none-any.whl (233 kB)\n",
      "\u001b[2K     \u001b[90m━━━━━━━━━━━━━━━━━━━━━━━━━━━━━━━━━━━━━━━\u001b[0m \u001b[32m233.6/233.6 kB\u001b[0m \u001b[31m2.9 MB/s\u001b[0m eta \u001b[36m0:00:00\u001b[0ma \u001b[36m0:00:01\u001b[0m\n",
      "\u001b[?25hRequirement already satisfied: click>=8.0 in /opt/conda/lib/python3.10/site-packages (from flask) (8.1.3)\n",
      "Collecting aniso8601>=0.82\n",
      "  Downloading aniso8601-9.0.1-py2.py3-none-any.whl (52 kB)\n",
      "\u001b[2K     \u001b[90m━━━━━━━━━━━━━━━━━━━━━━━━━━━━━━━━━━━━━━━━\u001b[0m \u001b[32m52.8/52.8 kB\u001b[0m \u001b[31m9.0 MB/s\u001b[0m eta \u001b[36m0:00:00\u001b[0m\n",
      "\u001b[?25hRequirement already satisfied: pytz in /opt/conda/lib/python3.10/site-packages (from flask-restful) (2022.6)\n",
      "Requirement already satisfied: six>=1.3.0 in /opt/conda/lib/python3.10/site-packages (from flask-restful) (1.16.0)\n",
      "Requirement already satisfied: MarkupSafe>=2.0 in /opt/conda/lib/python3.10/site-packages (from Jinja2>=3.0->flask) (2.1.1)\n",
      "Installing collected packages: aniso8601, Werkzeug, itsdangerous, flask, flask-restful\n",
      "Successfully installed Werkzeug-2.2.3 aniso8601-9.0.1 flask-2.2.3 flask-restful-0.3.9 itsdangerous-2.1.2\n",
      "Note: you may need to restart the kernel to use updated packages.\n"
     ]
    }
   ],
   "source": [
    "pip install flask flask-restful"
   ]
  },
  {
   "cell_type": "code",
   "execution_count": 3,
   "id": "b01a31fb-0c37-492d-9b71-20cc94c5b258",
   "metadata": {},
   "outputs": [
    {
     "name": "stdout",
     "output_type": "stream",
     "text": [
      " * Serving Flask app '__main__'\n",
      " * Debug mode: on\n"
     ]
    },
    {
     "name": "stderr",
     "output_type": "stream",
     "text": [
      "WARNING: This is a development server. Do not use it in a production deployment. Use a production WSGI server instead.\n",
      " * Running on http://127.0.0.1:5000\n",
      "Press CTRL+C to quit\n",
      " * Restarting with stat\n",
      "Traceback (most recent call last):\n",
      "  File \"/opt/conda/lib/python3.10/site-packages/ipykernel_launcher.py\", line 17, in <module>\n",
      "    app.launch_new_instance()\n",
      "  File \"/opt/conda/lib/python3.10/site-packages/traitlets/config/application.py\", line 991, in launch_instance\n",
      "    app.initialize(argv)\n",
      "  File \"/opt/conda/lib/python3.10/site-packages/traitlets/config/application.py\", line 113, in inner\n",
      "    return method(app, *args, **kwargs)\n",
      "  File \"/opt/conda/lib/python3.10/site-packages/ipykernel/kernelapp.py\", line 665, in initialize\n",
      "    self.init_sockets()\n",
      "  File \"/opt/conda/lib/python3.10/site-packages/ipykernel/kernelapp.py\", line 309, in init_sockets\n",
      "    self.shell_port = self._bind_socket(self.shell_socket, self.shell_port)\n",
      "  File \"/opt/conda/lib/python3.10/site-packages/ipykernel/kernelapp.py\", line 246, in _bind_socket\n",
      "    return self._try_bind_socket(s, port)\n",
      "  File \"/opt/conda/lib/python3.10/site-packages/ipykernel/kernelapp.py\", line 222, in _try_bind_socket\n",
      "    s.bind(\"tcp://%s:%i\" % (self.ip, port))\n",
      "  File \"/opt/conda/lib/python3.10/site-packages/zmq/sugar/socket.py\", line 232, in bind\n",
      "    super().bind(addr)\n",
      "  File \"zmq/backend/cython/socket.pyx\", line 568, in zmq.backend.cython.socket.Socket.bind\n",
      "  File \"zmq/backend/cython/checkrc.pxd\", line 28, in zmq.backend.cython.checkrc._check_rc\n",
      "zmq.error.ZMQError: Address already in use\n"
     ]
    },
    {
     "ename": "SystemExit",
     "evalue": "1",
     "output_type": "error",
     "traceback": [
      "An exception has occurred, use %tb to see the full traceback.\n",
      "\u001b[0;31mSystemExit\u001b[0m\u001b[0;31m:\u001b[0m 1\n"
     ]
    }
   ],
   "source": [
    "#5. Create a simple API. Use Postman to test it. Attach the screenshot of the output in the Jupyter Notebook.\n",
    "\n",
    "#Ans\n",
    "\n",
    "from flask import Flask\n",
    "from flask_restful import Resource, Api\n",
    "app = Flask(__name__)\n",
    "api = Api(app)\n",
    "class HelloWorld(Resource):\n",
    "    def get(self):\n",
    "        return {'hello': 'world'}\n",
    "api.add_resource(HelloWorld, '/')\n",
    "if __name__ == '__main__':\n",
    "    app.run(debug=True)"
   ]
  },
  {
   "cell_type": "code",
   "execution_count": null,
   "id": "d7fa2696-2373-4531-82c4-ee692b583374",
   "metadata": {},
   "outputs": [],
   "source": []
  },
  {
   "cell_type": "code",
   "execution_count": null,
   "id": "6fc07cab-9b9d-4a67-9251-26513344a255",
   "metadata": {},
   "outputs": [],
   "source": []
  }
 ],
 "metadata": {
  "kernelspec": {
   "display_name": "Python 3 (ipykernel)",
   "language": "python",
   "name": "python3"
  },
  "language_info": {
   "codemirror_mode": {
    "name": "ipython",
    "version": 3
   },
   "file_extension": ".py",
   "mimetype": "text/x-python",
   "name": "python",
   "nbconvert_exporter": "python",
   "pygments_lexer": "ipython3",
   "version": "3.10.8"
  }
 },
 "nbformat": 4,
 "nbformat_minor": 5
}
